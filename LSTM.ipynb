{
 "cells": [
  {
   "cell_type": "code",
   "execution_count": null,
   "id": "f7df6617-695f-4879-81d4-2321f847d010",
   "metadata": {},
   "outputs": [],
   "source": [
    "import numpy as np\n",
    "import matplotlib.pyplot as plt\n",
    "\n",
    "import torch\n",
    "import torch.nn as nn\n",
    "from torch.utils.data import TensorDataset, DataLoader\n",
    "\n",
    "from utils import data, plot, evaluate\n",
    "import models\n",
    "from models import GRU, LSTM\n",
    "\n",
    "# Set device\n",
    "device = torch.device('cuda') if torch.cuda.is_available() else torch.device('cpu')"
   ]
  },
  {
   "cell_type": "markdown",
   "id": "18d4784d-3d5a-4ebc-8b6f-57ba94203075",
   "metadata": {},
   "source": [
    "## Load Data"
   ]
  },
  {
   "cell_type": "code",
   "execution_count": null,
   "id": "388d17c1-2285-4308-a219-77ba90131692",
   "metadata": {},
   "outputs": [],
   "source": [
    "data_dir = 'data/CMAPSS'\n",
    "subset = 1\n",
    "train, test, header, n_meta, n_sensors, n_settings = data.load_cmapss_subset(\n",
    "    data_dir, subset)\n",
    "\n",
    "params = {\n",
    "    'drop_sensors': [1, 5, 6, 10, 16, 18, 19],\n",
    "    'include_settings': None,\n",
    "    'smooth': 0,\n",
    "    'lag': 20,\n",
    "    'clip': 125,\n",
    "    'cv_folds': None,\n",
    "    'return_cols': True,\n",
    "    'reshape_2d': True\n",
    "}\n",
    "X, y, _, cols = data.build_dataset(train, **params)\n",
    "X_test, y_test, _, cols = data.build_dataset(test, **params, test=True)\n",
    "\n",
    "y = np.expand_dims(y, axis=1)\n",
    "y_test = np.expand_dims(y_test, axis=1)\n",
    "print(X.shape, y.shape)\n",
    "\n",
    "batch_size = 2048\n",
    "\n",
    "train_data = TensorDataset(\n",
    "    torch.from_numpy(X),\n",
    "    torch.from_numpy(y))\n",
    "train_loader = DataLoader(train_data, shuffle=True, batch_size=batch_size, drop_last=True)\n",
    "\n",
    "test_data = TensorDataset(\n",
    "    torch.from_numpy(X_test),\n",
    "    torch.from_numpy(y_test))\n",
    "test_loader = DataLoader(test_data, shuffle=False, batch_size=batch_size, drop_last=False)"
   ]
  },
  {
   "cell_type": "code",
   "execution_count": null,
   "id": "bd55c820-690d-420e-af25-274f78158954",
   "metadata": {},
   "outputs": [],
   "source": [
    "model_params = {\n",
    "    'batch_size': batch_size,\n",
    "    'learning_rate': 0.001,\n",
    "    'epochs': 3,\n",
    "    'model_type': 'GRU',\n",
    "    'criterion': nn.MSELoss(),\n",
    "}\n",
    "\n",
    "print(f'{model_params[\"model_type\"]} Model\\n------------------')\n",
    "model, history = models.train(device, train_loader, **model_params)\n",
    "print('---')\n",
    "y_pred = models.predict(device, gru_model, X_test, y_test)\n",
    "metrics = evaluate.metrics(y_test, y_pred)\n",
    "print('Test Set - MAPE={:.3f} - MAE={:.3f} - MSE={:.3f} - RMSE={:.3f} - R2={:.3f}'.format(*metrics))\n",
    "\n",
    "fig, axes = plt.subplots(1, 2, figsize=(15, 5))\n",
    "axes[0].plot(history['losses'])\n",
    "axes[1].plot(y_test, y_pred, '.')\n",
    "axes[1].set_ylabel('Predictions')\n",
    "axes[1].set_xlabel('Ground Truth')\n",
    "axes[1].set_title('Test Set Predictions')"
   ]
  }
 ],
 "metadata": {
  "kernelspec": {
   "display_name": "Python 3 (ipykernel)",
   "language": "python",
   "name": "python3"
  },
  "language_info": {
   "codemirror_mode": {
    "name": "ipython",
    "version": 3
   },
   "file_extension": ".py",
   "mimetype": "text/x-python",
   "name": "python",
   "nbconvert_exporter": "python",
   "pygments_lexer": "ipython3",
   "version": "3.9.7"
  }
 },
 "nbformat": 4,
 "nbformat_minor": 5
}
