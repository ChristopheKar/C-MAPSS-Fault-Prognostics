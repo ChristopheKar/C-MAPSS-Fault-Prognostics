{
 "cells": [
  {
   "cell_type": "code",
   "execution_count": 1,
   "id": "f7df6617-695f-4879-81d4-2321f847d010",
   "metadata": {},
   "outputs": [],
   "source": [
    "import numpy as np\n",
    "import matplotlib.pyplot as plt\n",
    "\n",
    "import torch\n",
    "import torch.nn as nn\n",
    "from torch.utils.data import TensorDataset, DataLoader\n",
    "\n",
    "from utils import data, plot, evaluate\n",
    "import models\n",
    "from models import GRU, LSTM\n",
    "\n",
    "# Set device\n",
    "device = torch.device('cuda') if torch.cuda.is_available() else torch.device('cpu')"
   ]
  },
  {
   "cell_type": "markdown",
   "id": "18d4784d-3d5a-4ebc-8b6f-57ba94203075",
   "metadata": {},
   "source": [
    "## Load Data"
   ]
  },
  {
   "cell_type": "code",
   "execution_count": 2,
   "id": "388d17c1-2285-4308-a219-77ba90131692",
   "metadata": {},
   "outputs": [
    {
     "name": "stdout",
     "output_type": "stream",
     "text": [
      "(18631, 14, 21) (18631, 1)\n"
     ]
    }
   ],
   "source": [
    "data_dir = 'data/CMAPSS'\n",
    "subset = 1\n",
    "train, test, header, n_meta, n_sensors, n_settings = data.load_cmapss_subset(\n",
    "    data_dir, subset)\n",
    "\n",
    "params = {\n",
    "    'drop_sensors': [1, 5, 6, 10, 16, 18, 19],\n",
    "    'include_settings': None,\n",
    "    'smooth': 0,\n",
    "    'lag': 20,\n",
    "    'clip': 150,\n",
    "    'cv_folds': None,\n",
    "    'return_cols': True,\n",
    "    'reshape_2d': True\n",
    "}\n",
    "X, y, _, cols = data.build_dataset(train, **params)\n",
    "X_test, y_test, _, cols = data.build_dataset(test, **params, test=True)\n",
    "\n",
    "scaler = StandardScaler()\n",
    "X, y, scaler = models.preprocess(X, y, scaler, fit_scaler=True)\n",
    "X_test, y_test, scaler = models.preprocess(X_test, y_test, scaler, fit_scaler=False)\n",
    "\n",
    "print(X.shape, y.shape)\n",
    "\n",
    "batch_size = 2048\n",
    "\n",
    "train_data = TensorDataset(\n",
    "    torch.from_numpy(X),\n",
    "    torch.from_numpy(y))\n",
    "train_loader = DataLoader(train_data, shuffle=True, batch_size=batch_size, drop_last=True)\n",
    "\n",
    "test_data = TensorDataset(\n",
    "    torch.from_numpy(X_test),\n",
    "    torch.from_numpy(y_test))\n",
    "test_loader = DataLoader(test_data, shuffle=False, batch_size=batch_size, drop_last=False)"
   ]
  },
  {
   "cell_type": "code",
   "execution_count": 3,
   "id": "bd55c820-690d-420e-af25-274f78158954",
   "metadata": {},
   "outputs": [
    {
     "name": "stdout",
     "output_type": "stream",
     "text": [
      "GRU Model\n",
      "------------------\n"
     ]
    },
    {
     "data": {
      "application/vnd.jupyter.widget-view+json": {
       "model_id": "42063a3e512548018969ac3399719136",
       "version_major": 2,
       "version_minor": 0
      },
      "text/plain": [
       "Epochs:   0%|          | 0/3 [00:00<?, ?it/s]"
      ]
     },
     "metadata": {},
     "output_type": "display_data"
    },
    {
     "data": {
      "application/vnd.jupyter.widget-view+json": {
       "model_id": "bfcd2adc152b4046b0b2937a974b922f",
       "version_major": 2,
       "version_minor": 0
      },
      "text/plain": [
       "Training Batches:   0%|          | 0/9 [00:00<?, ?it/s]"
      ]
     },
     "metadata": {},
     "output_type": "display_data"
    },
    {
     "name": "stdout",
     "output_type": "stream",
     "text": [
      "---\n",
      "Test Set - MAPE=0.846 - MAE=69.678 - MSE=6581.876 - RMSE=81.129 - R2=-2.811\n"
     ]
    },
    {
     "data": {
      "text/plain": [
       "Text(0.5, 1.0, 'Test Set Predictions')"
      ]
     },
     "execution_count": 3,
     "metadata": {},
     "output_type": "execute_result"
    },
    {
     "data": {
      "image/png": "[encoded data removed]",
      "text/plain": [
       "<Figure size 1080x360 with 2 Axes>"
      ]
     },
     "metadata": {
      "needs_background": "light"
     },
     "output_type": "display_data"
    }
   ],
   "source": [
    "model_params = {\n",
    "    'batch_size': batch_size,\n",
    "    'learning_rate': 0.001,\n",
    "    'epochs': 300,\n",
    "    'model_type': 'GRU',\n",
    "    'criterion': nn.L1Loss(),\n",
    "}\n",
    "\n",
    "print(f'{model_params[\"model_type\"]} Model\\n----------')\n",
    "model, history = models.train(device, train_loader, **model_params)\n",
    "print('---')\n",
    "y_pred = models.predict(device, model, X_test, y_test)\n",
    "metrics = evaluate.metrics(y_test, y_pred)\n",
    "print('Test Set - MAPE={:.3f} - MAE={:.3f} - MSE={:.3f} - RMSE={:.3f} - R2={:.3f}'.format(*metrics))\n",
    "\n",
    "fig, axes = plt.subplots(1, 2, figsize=(15, 5))\n",
    "axes[0].plot(history['losses'])\n",
    "axes[1].plot(y_test, y_pred, '.')\n",
    "axes[1].set_ylabel('Predictions')\n",
    "axes[1].set_xlabel('Ground Truth')\n",
    "axes[1].set_title('Test Set Predictions')\n",
    "axes[1].set_ylim([0, 150])\n",
    "axes[1].set_xlim([0, 150])\n",
    "fig.show()"
   ]
  }
 ],
 "metadata": {
  "kernelspec": {
   "display_name": "Python 3 (ipykernel)",
   "language": "python",
   "name": "python3"
  },
  "language_info": {
   "codemirror_mode": {
    "name": "ipython",
    "version": 3
   },
   "file_extension": ".py",
   "mimetype": "text/x-python",
   "name": "python",
   "nbconvert_exporter": "python",
   "pygments_lexer": "ipython3",
   "version": "3.9.7"
  }
 },
 "nbformat": 4,
 "nbformat_minor": 5
}
