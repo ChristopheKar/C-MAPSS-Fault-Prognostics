{
 "cells": [
  {
   "cell_type": "code",
   "execution_count": 1,
   "id": "f7df6617-695f-4879-81d4-2321f847d010",
   "metadata": {},
   "outputs": [],
   "source": [
    "import time\n",
    "import numpy as np\n",
    "import torch\n",
    "import torch.nn as nn\n",
    "from torch.utils.data import TensorDataset, DataLoader\n",
    "\n",
    "from utils import data, plot, evaluate\n",
    "import models\n",
    "from models import GRU, LSTM\n",
    "\n",
    "# Set device\n",
    "device = torch.device('cuda') if torch.cuda.is_available() else torch.device('cpu')"
   ]
  },
  {
   "cell_type": "markdown",
   "id": "18d4784d-3d5a-4ebc-8b6f-57ba94203075",
   "metadata": {},
   "source": [
    "## Load Data"
   ]
  },
  {
   "cell_type": "code",
   "execution_count": 4,
   "id": "388d17c1-2285-4308-a219-77ba90131692",
   "metadata": {},
   "outputs": [
    {
     "name": "stdout",
     "output_type": "stream",
     "text": [
      "(18631, 14, 21) (18631, 1)\n"
     ]
    }
   ],
   "source": [
    "data_dir = 'data/CMAPSS'\n",
    "subset = 1\n",
    "train, test, header, n_meta, n_sensors, n_settings = data.load_cmapss_subset(\n",
    "    data_dir, subset)\n",
    "\n",
    "params = {\n",
    "    'drop_sensors': [1, 5, 6, 10, 16, 18, 19],\n",
    "    'include_settings': None,\n",
    "    'smooth': 0,\n",
    "    'lag': 20,\n",
    "    'clip': 125,\n",
    "    'cv_folds': None,\n",
    "    'return_cols': True,\n",
    "    'reshape_2d': True\n",
    "}\n",
    "X, y, _, cols = data.build_dataset(train, **params)\n",
    "X_test, y_test, _, cols = data.build_dataset(test, **params, test=True)\n",
    "\n",
    "y = np.expand_dims(y, axis=1)\n",
    "y_test = np.expand_dims(y_test, axis=1)\n",
    "print(X.shape, y.shape)\n",
    "\n",
    "batch_size = 2048\n",
    "\n",
    "train_data = TensorDataset(\n",
    "    torch.from_numpy(X),\n",
    "    torch.from_numpy(y))\n",
    "train_loader = DataLoader(train_data, shuffle=True, batch_size=batch_size, drop_last=True)\n",
    "\n",
    "test_data = TensorDataset(\n",
    "    torch.from_numpy(X_test),\n",
    "    torch.from_numpy(y_test))\n",
    "test_loader = DataLoader(test_data, shuffle=False, batch_size=batch_size, drop_last=False)"
   ]
  },
  {
   "cell_type": "code",
   "execution_count": 5,
   "id": "bd55c820-690d-420e-af25-274f78158954",
   "metadata": {},
   "outputs": [
    {
     "name": "stdout",
     "output_type": "stream",
     "text": [
      "GRU Model\n",
      "------------------\n",
      "Starting Training of GRU model\n",
      "Epoch 1/1 Done, Total Loss: 8186.889539930556\n",
      "Time Elapsed for Epoch: 11.455600494984537 seconds\n",
      "Total Training Time: 11.455600494984537 seconds\n",
      "---\n",
      "Test Set - MAPE=0.889 - MAE=71.301 - MSE=6810.675 - RMSE=82.527 - R2=-2.944\n"
     ]
    }
   ],
   "source": [
    "print('GRU Model\\n------------------')\n",
    "\n",
    "model_params = {\n",
    "    'batch_size': batch_size,\n",
    "    'learning_rate': 0.001,\n",
    "    'epochs': 1,\n",
    "    'model_type': 'GRU'\n",
    "}\n",
    "\n",
    "gru_model = models.train(device, train_loader, **model_params)\n",
    "print('---')\n",
    "gru_outputs = models.predict(device, gru_model, X_test, y_test)\n",
    "metrics = evaluate.metrics(y_test, gru_outputs)\n",
    "print('Test Set - MAPE={:.3f} - MAE={:.3f} - MSE={:.3f} - RMSE={:.3f} - R2={:.3f}'.format(*metrics))"
   ]
  },
  {
   "cell_type": "code",
   "execution_count": null,
   "id": "83a89285-b9d0-48cd-9562-bcb524962e63",
   "metadata": {},
   "outputs": [
    {
     "name": "stdout",
     "output_type": "stream",
     "text": [
      "LSTM Model\n",
      "------------------\n",
      "Starting Training of LSTM model\n"
     ]
    }
   ],
   "source": [
    "print('LSTM Model\\n------------------')\n",
    "\n",
    "model_params = {\n",
    "    'batch_size': batch_size,\n",
    "    'learning_rate': 0.001,\n",
    "    'epochs': 1,\n",
    "    'model_type': 'LSTM'\n",
    "}\n",
    "\n",
    "lstm_model = models.train(device, train_loader, **model_params)\n",
    "print('---')\n",
    "lstm_outputs = models.predict(device, gru_model, X_test, y_test)\n",
    "metrics = evaluate.metrics(y_test, lstm_outputs)\n",
    "print('Test Set - MAPE={:.3f} - MAE={:.3f} - MSE={:.3f} - RMSE={:.3f} - R2={:.3f}'.format(*metrics))"
   ]
  }
 ],
 "metadata": {
  "kernelspec": {
   "display_name": "Python 3 (ipykernel)",
   "language": "python",
   "name": "python3"
  },
  "language_info": {
   "codemirror_mode": {
    "name": "ipython",
    "version": 3
   },
   "file_extension": ".py",
   "mimetype": "text/x-python",
   "name": "python",
   "nbconvert_exporter": "python",
   "pygments_lexer": "ipython3",
   "version": "3.9.7"
  }
 },
 "nbformat": 4,
 "nbformat_minor": 5
}
