{
 "cells": [
  {
   "cell_type": "code",
   "execution_count": null,
   "id": "e25b8aac-95bf-4199-a52a-c9008fa6b24f",
   "metadata": {},
   "outputs": [],
   "source": [
    "import numpy as np\n",
    "import pandas as pd\n",
    "import matplotlib.pyplot as plt\n",
    "import seaborn as sns; sns.set()\n",
    "\n",
    "from sklearn.preprocessing import StandardScaler, MinMaxScaler, PowerTransformer\n",
    "from sklearn.linear_model import LinearRegression, Ridge, Lasso, ElasticNet\n",
    "from sklearn.svm import SVR\n",
    "from sklearn.pipeline import Pipeline\n",
    "import sklearn.metrics as skm\n",
    "\n",
    "from utils import data, plot, evaluate"
   ]
  },
  {
   "cell_type": "code",
   "execution_count": null,
   "id": "a758f1e3-d1d5-449f-b0e2-d6a14be123a9",
   "metadata": {},
   "outputs": [],
   "source": [
    "data_dir = 'data/CMAPSS'\n",
    "subset = 1\n",
    "train, test, header, n_meta, n_sensors, n_settings = data.load_cmapss_subset(\n",
    "    data_dir, subset)"
   ]
  },
  {
   "cell_type": "code",
   "execution_count": null,
   "id": "91fd03fc-456f-4d79-8413-f7bdbe074c3e",
   "metadata": {},
   "outputs": [],
   "source": [
    "# Set dataset parameters\n",
    "drop_sensors = [1, 5, 10, 16, 18, 19]\n",
    "drop_sensors = None\n",
    "include_settings = None\n",
    "params = {\n",
    "    'drop_sensors': drop_sensors,\n",
    "    'include_settings': include_settings,\n",
    "    'smooth': 0,\n",
    "    'lag': 0,\n",
    "    'clip': None\n",
    "}\n",
    "\n",
    "# Build dataset\n",
    "X, y, cv = data.build_dataset(train, cv_folds=5, **params)\n",
    "X_test, y_test, _ = data.build_dataset(test, cv_folds=None, test=True, **params)\n",
    "print('Samples: {} - Features: {}\\n---'.format(*X.shape))\n",
    "\n",
    "# Define model pipeline: scaler + regressor\n",
    "pipeline = Pipeline([('scaler', MinMaxScaler()), ('reg', LinearRegression())])\n",
    "\n",
    "# Evaluate on cross-validation set\n",
    "reg, val_train_scores, val_test_scores = evaluate.cross_validate(X, y, cv, pipeline)\n",
    "print('CV Training - MAPE={:.3f} - MAE={:.3f} - MSE={:.3f} - RMSE={:.3f} - R2={:.3f}'.format(*val_train_scores))\n",
    "print('CV Testing - MAPE={:.3f} - MAE={:.3f} - MSE={:.3f} - RMSE={:.3f} - R2={:.3f}'.format(*val_test_scores))\n",
    "\n",
    "# Evaluate on test set\n",
    "y_pred = pipeline.predict(X_test)\n",
    "print('Test Set - MAPE={:.3f} - MAE={:.3f} - MSE={:.3f} - RMSE={:.3f} - R2={:.3f}'.format(*evaluate.metrics(y_test, y_pred)))\n",
    "    \n",
    "fig, ax = plt.subplots()\n",
    "ax.plot(y_test, y_pred, '.')\n",
    "ax.set_ylabel('Predictions')\n",
    "ax.set_xlabel('Ground Truth')\n",
    "ax.set_title('Test Set Predictions')\n",
    "fig.show()"
   ]
  }
 ],
 "metadata": {
  "kernelspec": {
   "display_name": "Python 3 (ipykernel)",
   "language": "python",
   "name": "python3"
  },
  "language_info": {
   "codemirror_mode": {
    "name": "ipython",
    "version": 3
   },
   "file_extension": ".py",
   "mimetype": "text/x-python",
   "name": "python",
   "nbconvert_exporter": "python",
   "pygments_lexer": "ipython3",
   "version": "3.9.7"
  }
 },
 "nbformat": 4,
 "nbformat_minor": 5
}
